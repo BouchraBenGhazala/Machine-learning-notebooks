{
 "cells": [
  {
   "cell_type": "markdown",
   "id": "07e17c1f-b93c-4505-b68a-fb08079abe15",
   "metadata": {},
   "source": [
    "## Modèle de reconnaissance de nombres manuscrits"
   ]
  },
  {
   "cell_type": "code",
   "execution_count": 320,
   "id": "c9ebfb1b-964d-4836-ba76-b46081cd7bb2",
   "metadata": {},
   "outputs": [],
   "source": [
    "#Importation de libraries\n",
    "import numpy as np\n",
    "import matplotlib.pyplot as plt\n",
    "import pandas \n",
    "from sklearn.tree import DecisionTreeClassifier"
   ]
  },
  {
   "cell_type": "code",
   "execution_count": 321,
   "id": "6588bd13-46b6-4478-a196-26ba670a7b8b",
   "metadata": {},
   "outputs": [],
   "source": [
    "#lecture du fichier csv (dataset) et convertir en matrice\n",
    "data=pandas.read_csv(\"images_chiffres_codees_niveau_de_gris.csv\").to_numpy()"
   ]
  },
  {
   "cell_type": "code",
   "execution_count": 322,
   "id": "8c36b769-db23-44fe-8f0b-ad1f1476dfd2",
   "metadata": {},
   "outputs": [
    {
     "data": {
      "text/plain": [
       "array([[1, 0, 0, ..., 0, 0, 0],\n",
       "       [0, 0, 0, ..., 0, 0, 0],\n",
       "       [1, 0, 0, ..., 0, 0, 0],\n",
       "       ...,\n",
       "       [3, 0, 0, ..., 0, 0, 0],\n",
       "       [0, 0, 0, ..., 0, 0, 0],\n",
       "       [7, 0, 0, ..., 0, 0, 0]], dtype=int64)"
      ]
     },
     "execution_count": 322,
     "metadata": {},
     "output_type": "execute_result"
    }
   ],
   "source": [
    "data"
   ]
  },
  {
   "cell_type": "code",
   "execution_count": 323,
   "id": "d53d2d83-05f6-402e-9b7d-e5ac442c7024",
   "metadata": {},
   "outputs": [],
   "source": [
    "#Entraîner un modèle d'arbre de décision sur des données d'apprentissage: technique\n",
    "#possède des paramètres par défaut\n",
    "clf=DecisionTreeClassifier()"
   ]
  },
  {
   "cell_type": "code",
   "execution_count": 324,
   "id": "589e3735-6988-4ba7-95a5-bbaeda4e27f2",
   "metadata": {},
   "outputs": [],
   "source": [
    "#extraire data de 0 à 2099\n",
    "x=data[0:2100,1:]"
   ]
  },
  {
   "cell_type": "code",
   "execution_count": 325,
   "id": "2cd5b4ef-6071-4b75-b16b-fcc513575009",
   "metadata": {},
   "outputs": [
    {
     "data": {
      "text/plain": [
       "array([[0, 0, 0, ..., 0, 0, 0],\n",
       "       [0, 0, 0, ..., 0, 0, 0],\n",
       "       [0, 0, 0, ..., 0, 0, 0],\n",
       "       ...,\n",
       "       [0, 0, 0, ..., 0, 0, 0],\n",
       "       [0, 0, 0, ..., 0, 0, 0],\n",
       "       [0, 0, 0, ..., 0, 0, 0]], dtype=int64)"
      ]
     },
     "execution_count": 325,
     "metadata": {},
     "output_type": "execute_result"
    }
   ],
   "source": [
    "#affichage de x\n",
    "x"
   ]
  },
  {
   "cell_type": "code",
   "execution_count": 326,
   "id": "511f7ae3-2bc6-43cf-9c27-a572ac2ddc2e",
   "metadata": {},
   "outputs": [
    {
     "data": {
      "text/plain": [
       "array([1, 0, 1, ..., 6, 6, 1], dtype=int64)"
      ]
     },
     "execution_count": 326,
     "metadata": {},
     "output_type": "execute_result"
    }
   ],
   "source": [
    "#Label\n",
    "label=data[0:2100,0]\n",
    "#affichage\n",
    "label"
   ]
  },
  {
   "cell_type": "code",
   "execution_count": 327,
   "id": "b29222dc-6e21-464e-8d11-a29f23f3a8b9",
   "metadata": {},
   "outputs": [
    {
     "data": {
      "text/html": [
       "<style>#sk-container-id-11 {\n",
       "  /* Definition of color scheme common for light and dark mode */\n",
       "  --sklearn-color-text: black;\n",
       "  --sklearn-color-line: gray;\n",
       "  /* Definition of color scheme for unfitted estimators */\n",
       "  --sklearn-color-unfitted-level-0: #fff5e6;\n",
       "  --sklearn-color-unfitted-level-1: #f6e4d2;\n",
       "  --sklearn-color-unfitted-level-2: #ffe0b3;\n",
       "  --sklearn-color-unfitted-level-3: chocolate;\n",
       "  /* Definition of color scheme for fitted estimators */\n",
       "  --sklearn-color-fitted-level-0: #f0f8ff;\n",
       "  --sklearn-color-fitted-level-1: #d4ebff;\n",
       "  --sklearn-color-fitted-level-2: #b3dbfd;\n",
       "  --sklearn-color-fitted-level-3: cornflowerblue;\n",
       "\n",
       "  /* Specific color for light theme */\n",
       "  --sklearn-color-text-on-default-background: var(--sg-text-color, var(--theme-code-foreground, var(--jp-content-font-color1, black)));\n",
       "  --sklearn-color-background: var(--sg-background-color, var(--theme-background, var(--jp-layout-color0, white)));\n",
       "  --sklearn-color-border-box: var(--sg-text-color, var(--theme-code-foreground, var(--jp-content-font-color1, black)));\n",
       "  --sklearn-color-icon: #696969;\n",
       "\n",
       "  @media (prefers-color-scheme: dark) {\n",
       "    /* Redefinition of color scheme for dark theme */\n",
       "    --sklearn-color-text-on-default-background: var(--sg-text-color, var(--theme-code-foreground, var(--jp-content-font-color1, white)));\n",
       "    --sklearn-color-background: var(--sg-background-color, var(--theme-background, var(--jp-layout-color0, #111)));\n",
       "    --sklearn-color-border-box: var(--sg-text-color, var(--theme-code-foreground, var(--jp-content-font-color1, white)));\n",
       "    --sklearn-color-icon: #878787;\n",
       "  }\n",
       "}\n",
       "\n",
       "#sk-container-id-11 {\n",
       "  color: var(--sklearn-color-text);\n",
       "}\n",
       "\n",
       "#sk-container-id-11 pre {\n",
       "  padding: 0;\n",
       "}\n",
       "\n",
       "#sk-container-id-11 input.sk-hidden--visually {\n",
       "  border: 0;\n",
       "  clip: rect(1px 1px 1px 1px);\n",
       "  clip: rect(1px, 1px, 1px, 1px);\n",
       "  height: 1px;\n",
       "  margin: -1px;\n",
       "  overflow: hidden;\n",
       "  padding: 0;\n",
       "  position: absolute;\n",
       "  width: 1px;\n",
       "}\n",
       "\n",
       "#sk-container-id-11 div.sk-dashed-wrapped {\n",
       "  border: 1px dashed var(--sklearn-color-line);\n",
       "  margin: 0 0.4em 0.5em 0.4em;\n",
       "  box-sizing: border-box;\n",
       "  padding-bottom: 0.4em;\n",
       "  background-color: var(--sklearn-color-background);\n",
       "}\n",
       "\n",
       "#sk-container-id-11 div.sk-container {\n",
       "  /* jupyter's `normalize.less` sets `[hidden] { display: none; }`\n",
       "     but bootstrap.min.css set `[hidden] { display: none !important; }`\n",
       "     so we also need the `!important` here to be able to override the\n",
       "     default hidden behavior on the sphinx rendered scikit-learn.org.\n",
       "     See: https://github.com/scikit-learn/scikit-learn/issues/21755 */\n",
       "  display: inline-block !important;\n",
       "  position: relative;\n",
       "}\n",
       "\n",
       "#sk-container-id-11 div.sk-text-repr-fallback {\n",
       "  display: none;\n",
       "}\n",
       "\n",
       "div.sk-parallel-item,\n",
       "div.sk-serial,\n",
       "div.sk-item {\n",
       "  /* draw centered vertical line to link estimators */\n",
       "  background-image: linear-gradient(var(--sklearn-color-text-on-default-background), var(--sklearn-color-text-on-default-background));\n",
       "  background-size: 2px 100%;\n",
       "  background-repeat: no-repeat;\n",
       "  background-position: center center;\n",
       "}\n",
       "\n",
       "/* Parallel-specific style estimator block */\n",
       "\n",
       "#sk-container-id-11 div.sk-parallel-item::after {\n",
       "  content: \"\";\n",
       "  width: 100%;\n",
       "  border-bottom: 2px solid var(--sklearn-color-text-on-default-background);\n",
       "  flex-grow: 1;\n",
       "}\n",
       "\n",
       "#sk-container-id-11 div.sk-parallel {\n",
       "  display: flex;\n",
       "  align-items: stretch;\n",
       "  justify-content: center;\n",
       "  background-color: var(--sklearn-color-background);\n",
       "  position: relative;\n",
       "}\n",
       "\n",
       "#sk-container-id-11 div.sk-parallel-item {\n",
       "  display: flex;\n",
       "  flex-direction: column;\n",
       "}\n",
       "\n",
       "#sk-container-id-11 div.sk-parallel-item:first-child::after {\n",
       "  align-self: flex-end;\n",
       "  width: 50%;\n",
       "}\n",
       "\n",
       "#sk-container-id-11 div.sk-parallel-item:last-child::after {\n",
       "  align-self: flex-start;\n",
       "  width: 50%;\n",
       "}\n",
       "\n",
       "#sk-container-id-11 div.sk-parallel-item:only-child::after {\n",
       "  width: 0;\n",
       "}\n",
       "\n",
       "/* Serial-specific style estimator block */\n",
       "\n",
       "#sk-container-id-11 div.sk-serial {\n",
       "  display: flex;\n",
       "  flex-direction: column;\n",
       "  align-items: center;\n",
       "  background-color: var(--sklearn-color-background);\n",
       "  padding-right: 1em;\n",
       "  padding-left: 1em;\n",
       "}\n",
       "\n",
       "\n",
       "/* Toggleable style: style used for estimator/Pipeline/ColumnTransformer box that is\n",
       "clickable and can be expanded/collapsed.\n",
       "- Pipeline and ColumnTransformer use this feature and define the default style\n",
       "- Estimators will overwrite some part of the style using the `sk-estimator` class\n",
       "*/\n",
       "\n",
       "/* Pipeline and ColumnTransformer style (default) */\n",
       "\n",
       "#sk-container-id-11 div.sk-toggleable {\n",
       "  /* Default theme specific background. It is overwritten whether we have a\n",
       "  specific estimator or a Pipeline/ColumnTransformer */\n",
       "  background-color: var(--sklearn-color-background);\n",
       "}\n",
       "\n",
       "/* Toggleable label */\n",
       "#sk-container-id-11 label.sk-toggleable__label {\n",
       "  cursor: pointer;\n",
       "  display: block;\n",
       "  width: 100%;\n",
       "  margin-bottom: 0;\n",
       "  padding: 0.5em;\n",
       "  box-sizing: border-box;\n",
       "  text-align: center;\n",
       "}\n",
       "\n",
       "#sk-container-id-11 label.sk-toggleable__label-arrow:before {\n",
       "  /* Arrow on the left of the label */\n",
       "  content: \"▸\";\n",
       "  float: left;\n",
       "  margin-right: 0.25em;\n",
       "  color: var(--sklearn-color-icon);\n",
       "}\n",
       "\n",
       "#sk-container-id-11 label.sk-toggleable__label-arrow:hover:before {\n",
       "  color: var(--sklearn-color-text);\n",
       "}\n",
       "\n",
       "/* Toggleable content - dropdown */\n",
       "\n",
       "#sk-container-id-11 div.sk-toggleable__content {\n",
       "  max-height: 0;\n",
       "  max-width: 0;\n",
       "  overflow: hidden;\n",
       "  text-align: left;\n",
       "  /* unfitted */\n",
       "  background-color: var(--sklearn-color-unfitted-level-0);\n",
       "}\n",
       "\n",
       "#sk-container-id-11 div.sk-toggleable__content.fitted {\n",
       "  /* fitted */\n",
       "  background-color: var(--sklearn-color-fitted-level-0);\n",
       "}\n",
       "\n",
       "#sk-container-id-11 div.sk-toggleable__content pre {\n",
       "  margin: 0.2em;\n",
       "  border-radius: 0.25em;\n",
       "  color: var(--sklearn-color-text);\n",
       "  /* unfitted */\n",
       "  background-color: var(--sklearn-color-unfitted-level-0);\n",
       "}\n",
       "\n",
       "#sk-container-id-11 div.sk-toggleable__content.fitted pre {\n",
       "  /* unfitted */\n",
       "  background-color: var(--sklearn-color-fitted-level-0);\n",
       "}\n",
       "\n",
       "#sk-container-id-11 input.sk-toggleable__control:checked~div.sk-toggleable__content {\n",
       "  /* Expand drop-down */\n",
       "  max-height: 200px;\n",
       "  max-width: 100%;\n",
       "  overflow: auto;\n",
       "}\n",
       "\n",
       "#sk-container-id-11 input.sk-toggleable__control:checked~label.sk-toggleable__label-arrow:before {\n",
       "  content: \"▾\";\n",
       "}\n",
       "\n",
       "/* Pipeline/ColumnTransformer-specific style */\n",
       "\n",
       "#sk-container-id-11 div.sk-label input.sk-toggleable__control:checked~label.sk-toggleable__label {\n",
       "  color: var(--sklearn-color-text);\n",
       "  background-color: var(--sklearn-color-unfitted-level-2);\n",
       "}\n",
       "\n",
       "#sk-container-id-11 div.sk-label.fitted input.sk-toggleable__control:checked~label.sk-toggleable__label {\n",
       "  background-color: var(--sklearn-color-fitted-level-2);\n",
       "}\n",
       "\n",
       "/* Estimator-specific style */\n",
       "\n",
       "/* Colorize estimator box */\n",
       "#sk-container-id-11 div.sk-estimator input.sk-toggleable__control:checked~label.sk-toggleable__label {\n",
       "  /* unfitted */\n",
       "  background-color: var(--sklearn-color-unfitted-level-2);\n",
       "}\n",
       "\n",
       "#sk-container-id-11 div.sk-estimator.fitted input.sk-toggleable__control:checked~label.sk-toggleable__label {\n",
       "  /* fitted */\n",
       "  background-color: var(--sklearn-color-fitted-level-2);\n",
       "}\n",
       "\n",
       "#sk-container-id-11 div.sk-label label.sk-toggleable__label,\n",
       "#sk-container-id-11 div.sk-label label {\n",
       "  /* The background is the default theme color */\n",
       "  color: var(--sklearn-color-text-on-default-background);\n",
       "}\n",
       "\n",
       "/* On hover, darken the color of the background */\n",
       "#sk-container-id-11 div.sk-label:hover label.sk-toggleable__label {\n",
       "  color: var(--sklearn-color-text);\n",
       "  background-color: var(--sklearn-color-unfitted-level-2);\n",
       "}\n",
       "\n",
       "/* Label box, darken color on hover, fitted */\n",
       "#sk-container-id-11 div.sk-label.fitted:hover label.sk-toggleable__label.fitted {\n",
       "  color: var(--sklearn-color-text);\n",
       "  background-color: var(--sklearn-color-fitted-level-2);\n",
       "}\n",
       "\n",
       "/* Estimator label */\n",
       "\n",
       "#sk-container-id-11 div.sk-label label {\n",
       "  font-family: monospace;\n",
       "  font-weight: bold;\n",
       "  display: inline-block;\n",
       "  line-height: 1.2em;\n",
       "}\n",
       "\n",
       "#sk-container-id-11 div.sk-label-container {\n",
       "  text-align: center;\n",
       "}\n",
       "\n",
       "/* Estimator-specific */\n",
       "#sk-container-id-11 div.sk-estimator {\n",
       "  font-family: monospace;\n",
       "  border: 1px dotted var(--sklearn-color-border-box);\n",
       "  border-radius: 0.25em;\n",
       "  box-sizing: border-box;\n",
       "  margin-bottom: 0.5em;\n",
       "  /* unfitted */\n",
       "  background-color: var(--sklearn-color-unfitted-level-0);\n",
       "}\n",
       "\n",
       "#sk-container-id-11 div.sk-estimator.fitted {\n",
       "  /* fitted */\n",
       "  background-color: var(--sklearn-color-fitted-level-0);\n",
       "}\n",
       "\n",
       "/* on hover */\n",
       "#sk-container-id-11 div.sk-estimator:hover {\n",
       "  /* unfitted */\n",
       "  background-color: var(--sklearn-color-unfitted-level-2);\n",
       "}\n",
       "\n",
       "#sk-container-id-11 div.sk-estimator.fitted:hover {\n",
       "  /* fitted */\n",
       "  background-color: var(--sklearn-color-fitted-level-2);\n",
       "}\n",
       "\n",
       "/* Specification for estimator info (e.g. \"i\" and \"?\") */\n",
       "\n",
       "/* Common style for \"i\" and \"?\" */\n",
       "\n",
       ".sk-estimator-doc-link,\n",
       "a:link.sk-estimator-doc-link,\n",
       "a:visited.sk-estimator-doc-link {\n",
       "  float: right;\n",
       "  font-size: smaller;\n",
       "  line-height: 1em;\n",
       "  font-family: monospace;\n",
       "  background-color: var(--sklearn-color-background);\n",
       "  border-radius: 1em;\n",
       "  height: 1em;\n",
       "  width: 1em;\n",
       "  text-decoration: none !important;\n",
       "  margin-left: 1ex;\n",
       "  /* unfitted */\n",
       "  border: var(--sklearn-color-unfitted-level-1) 1pt solid;\n",
       "  color: var(--sklearn-color-unfitted-level-1);\n",
       "}\n",
       "\n",
       ".sk-estimator-doc-link.fitted,\n",
       "a:link.sk-estimator-doc-link.fitted,\n",
       "a:visited.sk-estimator-doc-link.fitted {\n",
       "  /* fitted */\n",
       "  border: var(--sklearn-color-fitted-level-1) 1pt solid;\n",
       "  color: var(--sklearn-color-fitted-level-1);\n",
       "}\n",
       "\n",
       "/* On hover */\n",
       "div.sk-estimator:hover .sk-estimator-doc-link:hover,\n",
       ".sk-estimator-doc-link:hover,\n",
       "div.sk-label-container:hover .sk-estimator-doc-link:hover,\n",
       ".sk-estimator-doc-link:hover {\n",
       "  /* unfitted */\n",
       "  background-color: var(--sklearn-color-unfitted-level-3);\n",
       "  color: var(--sklearn-color-background);\n",
       "  text-decoration: none;\n",
       "}\n",
       "\n",
       "div.sk-estimator.fitted:hover .sk-estimator-doc-link.fitted:hover,\n",
       ".sk-estimator-doc-link.fitted:hover,\n",
       "div.sk-label-container:hover .sk-estimator-doc-link.fitted:hover,\n",
       ".sk-estimator-doc-link.fitted:hover {\n",
       "  /* fitted */\n",
       "  background-color: var(--sklearn-color-fitted-level-3);\n",
       "  color: var(--sklearn-color-background);\n",
       "  text-decoration: none;\n",
       "}\n",
       "\n",
       "/* Span, style for the box shown on hovering the info icon */\n",
       ".sk-estimator-doc-link span {\n",
       "  display: none;\n",
       "  z-index: 9999;\n",
       "  position: relative;\n",
       "  font-weight: normal;\n",
       "  right: .2ex;\n",
       "  padding: .5ex;\n",
       "  margin: .5ex;\n",
       "  width: min-content;\n",
       "  min-width: 20ex;\n",
       "  max-width: 50ex;\n",
       "  color: var(--sklearn-color-text);\n",
       "  box-shadow: 2pt 2pt 4pt #999;\n",
       "  /* unfitted */\n",
       "  background: var(--sklearn-color-unfitted-level-0);\n",
       "  border: .5pt solid var(--sklearn-color-unfitted-level-3);\n",
       "}\n",
       "\n",
       ".sk-estimator-doc-link.fitted span {\n",
       "  /* fitted */\n",
       "  background: var(--sklearn-color-fitted-level-0);\n",
       "  border: var(--sklearn-color-fitted-level-3);\n",
       "}\n",
       "\n",
       ".sk-estimator-doc-link:hover span {\n",
       "  display: block;\n",
       "}\n",
       "\n",
       "/* \"?\"-specific style due to the `<a>` HTML tag */\n",
       "\n",
       "#sk-container-id-11 a.estimator_doc_link {\n",
       "  float: right;\n",
       "  font-size: 1rem;\n",
       "  line-height: 1em;\n",
       "  font-family: monospace;\n",
       "  background-color: var(--sklearn-color-background);\n",
       "  border-radius: 1rem;\n",
       "  height: 1rem;\n",
       "  width: 1rem;\n",
       "  text-decoration: none;\n",
       "  /* unfitted */\n",
       "  color: var(--sklearn-color-unfitted-level-1);\n",
       "  border: var(--sklearn-color-unfitted-level-1) 1pt solid;\n",
       "}\n",
       "\n",
       "#sk-container-id-11 a.estimator_doc_link.fitted {\n",
       "  /* fitted */\n",
       "  border: var(--sklearn-color-fitted-level-1) 1pt solid;\n",
       "  color: var(--sklearn-color-fitted-level-1);\n",
       "}\n",
       "\n",
       "/* On hover */\n",
       "#sk-container-id-11 a.estimator_doc_link:hover {\n",
       "  /* unfitted */\n",
       "  background-color: var(--sklearn-color-unfitted-level-3);\n",
       "  color: var(--sklearn-color-background);\n",
       "  text-decoration: none;\n",
       "}\n",
       "\n",
       "#sk-container-id-11 a.estimator_doc_link.fitted:hover {\n",
       "  /* fitted */\n",
       "  background-color: var(--sklearn-color-fitted-level-3);\n",
       "}\n",
       "</style><div id=\"sk-container-id-11\" class=\"sk-top-container\"><div class=\"sk-text-repr-fallback\"><pre>DecisionTreeClassifier()</pre><b>In a Jupyter environment, please rerun this cell to show the HTML representation or trust the notebook. <br />On GitHub, the HTML representation is unable to render, please try loading this page with nbviewer.org.</b></div><div class=\"sk-container\" hidden><div class=\"sk-item\"><div class=\"sk-estimator fitted sk-toggleable\"><input class=\"sk-toggleable__control sk-hidden--visually\" id=\"sk-estimator-id-11\" type=\"checkbox\" checked><label for=\"sk-estimator-id-11\" class=\"sk-toggleable__label fitted sk-toggleable__label-arrow fitted\">&nbsp;&nbsp;DecisionTreeClassifier<a class=\"sk-estimator-doc-link fitted\" rel=\"noreferrer\" target=\"_blank\" href=\"https://scikit-learn.org/1.4/modules/generated/sklearn.tree.DecisionTreeClassifier.html\">?<span>Documentation for DecisionTreeClassifier</span></a><span class=\"sk-estimator-doc-link fitted\">i<span>Fitted</span></span></label><div class=\"sk-toggleable__content fitted\"><pre>DecisionTreeClassifier()</pre></div> </div></div></div></div>"
      ],
      "text/plain": [
       "DecisionTreeClassifier()"
      ]
     },
     "execution_count": 327,
     "metadata": {},
     "output_type": "execute_result"
    }
   ],
   "source": [
    "#fit():Apprentissage du modèle\n",
    "#clf: instance du modèle\n",
    "clf.fit(x,label)"
   ]
  },
  {
   "cell_type": "code",
   "execution_count": 328,
   "id": "b7606323-bd9a-47a8-af9d-7e62c1f00aa4",
   "metadata": {},
   "outputs": [
    {
     "data": {
      "text/plain": [
       "array([[0, 0, 0, ..., 0, 0, 0],\n",
       "       [0, 0, 0, ..., 0, 0, 0],\n",
       "       [0, 0, 0, ..., 0, 0, 0],\n",
       "       ...,\n",
       "       [0, 0, 0, ..., 0, 0, 0],\n",
       "       [0, 0, 0, ..., 0, 0, 0],\n",
       "       [0, 0, 0, ..., 0, 0, 0]], dtype=int64)"
      ]
     },
     "execution_count": 328,
     "metadata": {},
     "output_type": "execute_result"
    }
   ],
   "source": [
    "#Données pour le test\n",
    "xtest=data[2100:,1:]\n",
    "#Affichage\n",
    "xtest"
   ]
  },
  {
   "cell_type": "code",
   "execution_count": 329,
   "id": "f018710f-072c-47a8-99f5-f83e74ecf129",
   "metadata": {},
   "outputs": [
    {
     "data": {
      "text/plain": [
       "array([8, 1, 6, 9, 0, 2, 1, 5, 1, 1, 0, 9, 4, 9, 9, 8, 8, 1, 6, 0, 1, 2,\n",
       "       4, 4, 4, 5, 1, 5, 9, 8, 7, 0, 9, 3, 0, 9, 4, 7, 7, 8, 0, 4, 7, 0,\n",
       "       9, 0, 8, 9, 0, 4, 8, 3, 5, 6, 2, 0, 5, 6, 2, 6, 5, 8, 4, 0, 6, 6,\n",
       "       2, 8, 5, 1, 9, 2, 4, 1, 4, 5, 2, 9, 7, 3, 7, 7, 8, 6, 7, 9, 5, 6,\n",
       "       9, 4, 1, 8, 5, 0, 8, 4, 2, 6, 6, 8, 9, 5, 2, 4, 1, 6, 1, 5, 3, 1,\n",
       "       7, 8, 6, 7, 5, 1, 4, 0, 5, 4, 9, 4, 1, 4, 6, 0, 2, 5, 2, 0, 1, 1,\n",
       "       5, 4, 3, 7, 3, 7, 1, 8, 2, 5, 8, 2, 2, 1, 8, 1, 4, 5, 9, 1, 7, 0,\n",
       "       4, 8, 1, 4, 6, 3, 7, 9, 4, 9, 2, 8, 0, 0, 7, 6, 8, 5, 3, 0, 5, 8,\n",
       "       1, 4, 6, 9, 1, 7, 6, 1, 1, 1, 0, 2, 2, 7, 5, 3, 1, 7, 6, 4, 7, 3,\n",
       "       4, 6, 3, 1, 3, 5, 3, 7, 9, 3, 3, 5, 0, 9, 1, 1, 7, 2, 1, 2, 6, 8,\n",
       "       5, 2, 4, 1, 3, 9, 2, 3, 2, 9, 5, 8, 3, 8, 4, 5, 2, 0, 1, 1, 1, 5,\n",
       "       2, 9, 0, 7, 9, 9, 8, 2, 2, 6, 6, 5, 2, 2, 1, 8, 9, 3, 3, 3, 1, 1,\n",
       "       1, 3, 0, 5, 2, 0, 6, 1, 9, 1, 8, 9, 3, 3, 9, 4, 1, 0, 0, 0, 4, 0,\n",
       "       2, 6, 0, 5, 9, 7, 4, 4, 5, 4, 5, 6, 2, 4, 6, 8, 5, 5, 6, 7, 2, 5,\n",
       "       1, 0, 1, 3, 5, 6, 7, 9, 0, 9, 9, 9, 6, 2, 4, 3, 7, 7, 2, 0, 2, 1,\n",
       "       6, 1, 2, 7, 9, 7, 9, 7, 6, 3, 5, 7, 9, 0, 0, 3, 7, 3, 4, 3, 5, 5,\n",
       "       4, 5, 0, 4, 7, 8, 3, 3, 2, 8, 8, 9, 4, 5, 5, 7, 2, 3, 4, 0, 5, 0,\n",
       "       1, 7, 4, 6, 4, 2, 1, 9, 1, 9, 6, 5, 5, 0, 8, 4, 3, 1, 2, 1, 0, 2,\n",
       "       3, 6, 3, 8, 1, 7, 0, 4, 9, 2, 4, 3, 7, 8, 7, 4, 5, 9, 4, 2, 4, 1,\n",
       "       9, 0, 9, 2, 1, 8, 5, 3, 0, 2, 0, 4, 2, 5, 6, 4, 5, 0, 9, 5, 5, 6,\n",
       "       0, 2, 0, 3, 2, 7, 6, 0, 7, 1, 9, 5, 3, 7, 2, 5, 3, 0, 7],\n",
       "      dtype=int64)"
      ]
     },
     "execution_count": 329,
     "metadata": {},
     "output_type": "execute_result"
    }
   ],
   "source": [
    "#labels du test\n",
    "actual_label=data[2100:,0] #pourquoi il a commencé par 2102??\n",
    "actual_label #starts from 2102?"
   ]
  },
  {
   "cell_type": "code",
   "execution_count": 330,
   "id": "a2ca3cb9-1005-426d-ad3a-022d12f715ed",
   "metadata": {},
   "outputs": [
    {
     "data": {
      "text/plain": [
       "array([8, 1, 6, 9, 0, 1, 4, 3, 1, 1, 0, 9, 1, 9, 2, 3, 8, 1, 6, 0, 1, 2,\n",
       "       4, 5, 4, 5, 1, 5, 9, 8, 7, 0, 4, 3, 5, 9, 4, 7, 7, 8, 0, 4, 7, 0,\n",
       "       6, 0, 8, 8, 3, 4, 8, 0, 5, 3, 2, 0, 8, 6, 8, 6, 5, 8, 4, 0, 6, 6,\n",
       "       4, 2, 5, 1, 9, 2, 4, 1, 2, 3, 2, 9, 7, 3, 7, 7, 9, 5, 7, 7, 5, 4,\n",
       "       9, 9, 1, 8, 3, 0, 7, 4, 2, 6, 6, 8, 9, 5, 2, 4, 1, 6, 1, 2, 3, 1,\n",
       "       7, 8, 6, 7, 5, 1, 9, 0, 8, 4, 5, 4, 1, 4, 6, 6, 2, 5, 2, 0, 1, 1,\n",
       "       3, 2, 3, 7, 5, 8, 1, 8, 2, 5, 1, 2, 2, 1, 9, 1, 4, 5, 3, 1, 7, 5,\n",
       "       4, 8, 1, 4, 5, 3, 7, 9, 6, 8, 2, 8, 0, 0, 7, 6, 8, 2, 3, 0, 5, 9,\n",
       "       2, 4, 3, 9, 1, 7, 6, 1, 6, 1, 5, 2, 2, 7, 5, 8, 1, 3, 6, 4, 3, 3,\n",
       "       9, 6, 5, 1, 8, 5, 3, 7, 9, 3, 3, 9, 0, 9, 1, 1, 7, 2, 1, 2, 6, 8,\n",
       "       5, 2, 4, 1, 3, 9, 1, 3, 2, 9, 5, 8, 3, 9, 5, 5, 2, 0, 1, 1, 1, 1,\n",
       "       2, 9, 0, 7, 9, 9, 5, 2, 2, 3, 6, 0, 8, 3, 1, 9, 9, 3, 3, 5, 1, 1,\n",
       "       5, 1, 0, 9, 2, 0, 6, 1, 4, 1, 8, 9, 3, 4, 9, 4, 2, 6, 0, 0, 4, 0,\n",
       "       2, 6, 0, 3, 9, 7, 4, 4, 3, 4, 5, 6, 2, 4, 4, 3, 5, 5, 6, 7, 2, 9,\n",
       "       1, 0, 1, 4, 5, 6, 4, 9, 0, 9, 9, 9, 6, 2, 4, 3, 7, 7, 2, 5, 2, 1,\n",
       "       6, 3, 6, 7, 6, 7, 7, 7, 6, 3, 5, 7, 9, 2, 0, 3, 7, 3, 4, 3, 5, 5,\n",
       "       4, 8, 7, 4, 7, 8, 3, 3, 4, 8, 9, 4, 4, 5, 3, 7, 2, 3, 4, 0, 3, 0,\n",
       "       1, 7, 2, 6, 4, 1, 1, 9, 1, 7, 6, 5, 5, 0, 8, 4, 3, 1, 0, 1, 0, 2,\n",
       "       3, 6, 3, 8, 1, 7, 0, 5, 9, 2, 8, 3, 7, 8, 7, 4, 6, 3, 4, 2, 4, 1,\n",
       "       9, 0, 9, 2, 1, 7, 6, 3, 3, 2, 0, 4, 2, 8, 2, 4, 5, 5, 4, 5, 5, 6,\n",
       "       0, 4, 0, 3, 2, 7, 6, 0, 7, 1, 9, 5, 3, 7, 2, 3, 3, 0, 7],\n",
       "      dtype=int64)"
      ]
     },
     "execution_count": 330,
     "metadata": {},
     "output_type": "execute_result"
    }
   ],
   "source": [
    "#Prédictions des labels par les données du test\n",
    "p=clf.predict(xtest)\n",
    "p"
   ]
  },
  {
   "cell_type": "code",
   "execution_count": 331,
   "id": "3f6342ae-1981-4bc8-8e2d-9a8954608eb6",
   "metadata": {},
   "outputs": [
    {
     "name": "stdout",
     "output_type": "stream",
     "text": [
      "Accuracy= 75.81699346405229\n"
     ]
    }
   ],
   "source": [
    "count=0\n",
    "for i in range(0,459):\n",
    "    if p[i]==actual_label[i]:\n",
    "        count+=1\n",
    "    else:\n",
    "        0\n",
    "print(\"Accuracy=\",(count/459)*100)\n"
   ]
  },
  {
   "cell_type": "code",
   "execution_count": 332,
   "id": "e8e6c7b9-7578-4a8e-a6ce-29ba07410e95",
   "metadata": {},
   "outputs": [],
   "source": [
    "#5 ème ligne de xtest\n",
    "d=xtest[5] #2102+5, starts from 0!!\n",
    "#d"
   ]
  },
  {
   "cell_type": "code",
   "execution_count": 333,
   "id": "32957f87-0689-4cd8-9dad-50ded4f44625",
   "metadata": {},
   "outputs": [],
   "source": [
    "Nombre_de_pixels_errones=10"
   ]
  },
  {
   "cell_type": "code",
   "execution_count": 334,
   "id": "a21a9846-5866-4eca-88d8-1590e3de8768",
   "metadata": {},
   "outputs": [
    {
     "name": "stdout",
     "output_type": "stream",
     "text": [
      "[1]\n"
     ]
    }
   ],
   "source": [
    "#ajouter du bruit à un ensemble de données d'images\n",
    "for i in range(Nombre_de_pixels_errones):\n",
    "    position=np.random.randint(0,784,1)[0] #random nb 0 à 783 corrsp position vecteur de pixels img, représente pixel dans img\n",
    "    bruit=np.random.randint(-200,200,1)[0] #random nb de -200 à 199 qui corrsp à la valeur du bruit ajouté au pixel selectionné\n",
    "    d[position]+=bruit #ajoute la valeur de bruit générée à la position correspondante dans le vecteur de pixels d\n",
    "    d[position]=d[position]%255 #assure que la valeur du pixel reste dans la plage valide des valeurs de pixel (0 à 255 inclusivement)\n",
    "print(clf.predict([d]))\n",
    "#ce code ajoute du bruit à un certain nombre de pixels dans une image en modifiant aléatoirement leurs valeurs. Cela peut être utilisé pour créer des images artificielles avec des pixels erronés pour augmenter la robustesse d'un modèle d'apprentissage automatique face au bruit dans les données. Le nombre de pixels erronés ajoutés est contrôlé par la variable Nombre_de_pixels_errones."
   ]
  },
  {
   "cell_type": "code",
   "execution_count": 335,
   "id": "f2769eb6-6b1a-433b-b98e-e55234d6688f",
   "metadata": {},
   "outputs": [],
   "source": [
    "#modifie la forme (shape) de l'objet d pour qu'il ait une dimension de 28 par 28.\n",
    "d.shape=(28,28)\n",
    "#d"
   ]
  },
  {
   "cell_type": "code",
   "execution_count": 336,
   "id": "4ae922e3-2dd4-4442-90e0-da19c5c8fdcb",
   "metadata": {},
   "outputs": [
    {
     "data": {
      "text/plain": [
       "<matplotlib.image.AxesImage at 0x14fb47b34d0>"
      ]
     },
     "execution_count": 336,
     "metadata": {},
     "output_type": "execute_result"
    },
    {
     "data": {
      "image/png": "[encoded data removed]",
      "text/plain": [
       "<Figure size 640x480 with 1 Axes>"
      ]
     },
     "metadata": {},
     "output_type": "display_data"
    }
   ],
   "source": [
    "#inverser l'intensité de la couleur de chaque pixel et afficher l'image\n",
    "plt.imshow(d-255,cmap='gray') #gray:colormap"
   ]
  },
  {
   "cell_type": "code",
   "execution_count": 337,
   "id": "64532d55-29df-4ce6-8bfe-b6207d854cf4",
   "metadata": {},
   "outputs": [],
   "source": [
    "plt.show()"
   ]
  },
  {
   "cell_type": "code",
   "execution_count": null,
   "id": "da8999b1-478d-4de0-b281-921443192772",
   "metadata": {},
   "outputs": [],
   "source": [
    "#1\n",
    "#dataset:images_chiffres_codees_niveau_de_gris\n",
    "#input:  les nombres (pixels)\n",
    "#output: labels\n",
    "#technique utilisée: modèle d'arbre de décision\n",
    "\n",
    "#2: Etapes nécessaires à une application de ML\n",
    "#Importer les libraires nécessaires\n",
    "#Importation de la dataset\n",
    "#Choisir et importer technique: instance du modèle\n",
    "#separation de données selon données de test et données d'entrainement\n",
    "#faire l'entrainement du modèle avec la fonction fit()\n",
    "#faire la prédiction sur les données du test\n",
    "#comparer les résultats de la prédiction avec les résultats réels et calculer l'accuracy\n",
    "\n",
    "#3: Méthode de performance utilisée\n",
    "#déclarer un conteur, faire une boucle et comparer les données de prédiction avec données réels, si égaux augmenter le conteur, puis calculer l'accuracy\n",
    "\n",
    "#4: 18 à 23\n",
    "#ce code ajoute du bruit à un certain nombre de pixels dans une image en modifiant aléatoirement leurs valeurs. \n",
    "#Cela peut être utilisé pour créer des images artificielles avec des pixels erronés pour augmenter la robustesse d'un modèle d'apprentissage automatique face au bruit dans les données. \n",
    "#Le nombre de pixels erronés ajoutés est contrôlé par la variable Nombre_de_pixels_errones."
   ]
  }
 ],
 "metadata": {
  "kernelspec": {
   "display_name": "Python 3 (ipykernel)",
   "language": "python",
   "name": "python3"
  },
  "language_info": {
   "codemirror_mode": {
    "name": "ipython",
    "version": 3
   },
   "file_extension": ".py",
   "mimetype": "text/x-python",
   "name": "python",
   "nbconvert_exporter": "python",
   "pygments_lexer": "ipython3",
   "version": "3.12.2"
  }
 },
 "nbformat": 4,
 "nbformat_minor": 5
}
