{
 "cells": [
  {
   "cell_type": "markdown",
   "id": "e15e2b24-066f-4973-877b-1a9aa1e4c00c",
   "metadata": {},
   "source": [
    "## ANN"
   ]
  },
  {
   "cell_type": "code",
   "execution_count": 3,
   "id": "c51bce77-c32e-4376-a04f-7c86f122e478",
   "metadata": {},
   "outputs": [
    {
     "name": "stdout",
     "output_type": "stream",
     "text": [
      "Requirement already satisfied: keras in c:\\users\\bouchra hp\\appdata\\local\\programs\\python\\python38\\lib\\site-packages (2.13.1)\n"
     ]
    }
   ],
   "source": [
    "!pip install keras"
   ]
  },
  {
   "cell_type": "code",
   "execution_count": 1,
   "id": "b275c9b2-1b23-4e9b-aa2e-ce6eb4883480",
   "metadata": {},
   "outputs": [
    {
     "name": "stdout",
     "output_type": "stream",
     "text": [
      "Python 3.8.10\n"
     ]
    }
   ],
   "source": [
    "!python --version"
   ]
  },
  {
   "cell_type": "code",
   "execution_count": 3,
   "id": "0b56804d-4c7d-42ec-809f-23517a4daac3",
   "metadata": {},
   "outputs": [
    {
     "name": "stdout",
     "output_type": "stream",
     "text": [
      "Requirement already satisfied: keras<2.14,>=2.13.1 in c:\\users\\bouchra hp\\appdata\\local\\programs\\python\\python38\\lib\\site-packages (2.13.1)\n"
     ]
    }
   ],
   "source": [
    "!pip install --upgrade \"keras<2.14,>=2.13.1\""
   ]
  },
  {
   "cell_type": "code",
   "execution_count": 9,
   "id": "c3672671-7f59-49db-8635-7cd606fa3c6f",
   "metadata": {},
   "outputs": [
    {
     "name": "stdout",
     "output_type": "stream",
     "text": [
      "Package                      Version\n",
      "---------------------------- --------------------\n",
      "absl-py                      2.1.0\n",
      "annotated-types              0.6.0\n",
      "anyio                        4.3.0\n",
      "astunparse                   1.6.3\n",
      "attrs                        23.2.0\n",
      "beautifulsoup4               4.12.3\n",
      "boto3                        1.34.99\n",
      "botocore                     1.34.99\n",
      "cachetools                   5.3.3\n",
      "certifi                      2023.7.22\n",
      "cffi                         1.16.0\n",
      "chardet                      4.0.0\n",
      "charset-normalizer           3.3.2\n",
      "click                        8.1.7\n",
      "cmake                        3.29.0.1\n",
      "colorama                     0.4.6\n",
      "comtypes                     1.3.1\n",
      "contourpy                    1.1.1\n",
      "cycler                       0.10.0\n",
      "distro                       1.9.0\n",
      "dlib                         19.24.2\n",
      "easyocr                      1.7.1\n",
      "exceptiongroup               1.2.0\n",
      "face-recognition             1.3.0\n",
      "face-recognition-models      0.3.0\n",
      "filelock                     3.13.4\n",
      "flatbuffers                  24.3.25\n",
      "fonttools                    4.50.0\n",
      "fsspec                       2024.3.1\n",
      "gast                         0.4.0\n",
      "google-auth                  2.29.0\n",
      "google-auth-oauthlib         1.0.0\n",
      "google-pasta                 0.2.0\n",
      "grpcio                       1.62.2\n",
      "gTTS                         2.5.1\n",
      "h11                          0.14.0\n",
      "h5py                         3.11.0\n",
      "httpcore                     1.0.5\n",
      "httpx                        0.27.0\n",
      "idna                         2.10\n",
      "imageio                      2.34.1\n",
      "importlib_metadata           7.1.0\n",
      "importlib_resources          6.4.0\n",
      "jax                          0.4.13\n",
      "Jinja2                       3.1.3\n",
      "jmespath                     1.0.1\n",
      "joblib                       1.3.2\n",
      "keras                        2.13.1\n",
      "kiwisolver                   1.4.5\n",
      "lazy_loader                  0.4\n",
      "libclang                     18.1.1\n",
      "Markdown                     3.6\n",
      "MarkupSafe                   2.1.5\n",
      "matplotlib                   3.7.5\n",
      "mediapipe                    0.10.11\n",
      "ml-dtypes                    0.2.0\n",
      "MouseInfo                    0.1.3\n",
      "mpmath                       1.3.0\n",
      "networkx                     3.1\n",
      "ninja                        1.11.1.1\n",
      "nltk                         3.8.1\n",
      "numpy                        1.24.3\n",
      "oauthlib                     3.2.2\n",
      "openai                       1.19.0\n",
      "opencv-contrib-python        4.9.0.80\n",
      "opencv-python                4.9.0.80\n",
      "opencv-python-headless       4.8.0.74\n",
      "opt-einsum                   3.3.0\n",
      "packaging                    24.0\n",
      "pandas                       2.0.3\n",
      "pdf2image                    1.17.0\n",
      "pillow                       10.2.0\n",
      "pip                          24.0\n",
      "protobuf                     3.20.3\n",
      "psutil                       5.9.8\n",
      "py-cpuinfo                   9.0.0\n",
      "pyasn1                       0.6.0\n",
      "pyasn1_modules               0.4.0\n",
      "PyAudio                      0.2.14\n",
      "PyAutoGUI                    0.9.54\n",
      "pyclipper                    1.3.0.post5\n",
      "pycparser                    2.21\n",
      "pydantic                     2.7.0\n",
      "pydantic_core                2.18.1\n",
      "pydub                        0.25.1\n",
      "PyGetWindow                  0.0.9\n",
      "PyMsgBox                     1.0.9\n",
      "pyparsing                    3.1.2\n",
      "pyperclip                    1.8.2\n",
      "pypiwin32                    223\n",
      "PyRect                       0.2.0\n",
      "PyScreeze                    0.1.30\n",
      "pytesseract                  0.3.10\n",
      "python-bidi                  0.4.2\n",
      "python-dateutil              2.9.0.post0\n",
      "python-dotenv                1.0.1\n",
      "python-magic                 0.4.27\n",
      "python-ocr                   0.1.5\n",
      "pyttsx3                      2.90\n",
      "pytweening                   1.2.0\n",
      "pytz                         2024.1\n",
      "PyWavelets                   1.4.1\n",
      "pywin32                      306\n",
      "PyYAML                       6.0.1\n",
      "regex                        2023.12.25\n",
      "requests                     2.31.0\n",
      "requests-oauthlib            2.0.0\n",
      "requests-toolbelt            1.0.0\n",
      "roboflow                     1.1.27\n",
      "rsa                          4.9\n",
      "s3transfer                   0.10.1\n",
      "scikit-image                 0.21.0\n",
      "scikit-learn                 1.3.2\n",
      "scipy                        1.10.1\n",
      "seaborn                      0.13.2\n",
      "setuptools                   56.0.0\n",
      "shapely                      2.0.4\n",
      "six                          1.16.0\n",
      "sniffio                      1.3.1\n",
      "sounddevice                  0.4.6\n",
      "soupsieve                    2.5\n",
      "SpeechRecognition            3.10.3\n",
      "sympy                        1.12\n",
      "tensorboard                  2.13.0\n",
      "tensorboard-data-server      0.7.2\n",
      "tensorflow                   2.13.0\n",
      "tensorflow-estimator         2.13.0\n",
      "tensorflow-intel             2.13.0\n",
      "tensorflow-io-gcs-filesystem 0.31.0\n",
      "termcolor                    2.4.0\n",
      "thop                         0.1.1.post2209072238\n",
      "threadpoolctl                3.4.0\n",
      "tifffile                     2023.7.10\n",
      "torch                        2.2.2\n",
      "torchvision                  0.17.2\n",
      "tqdm                         4.66.2\n",
      "typing_extensions            4.5.0\n",
      "tzdata                       2024.1\n",
      "ultralytics                  8.2.2\n",
      "urllib3                      1.26.18\n",
      "Werkzeug                     3.0.2\n",
      "wheel                        0.43.0\n",
      "wikipedia                    1.4.0\n",
      "wrapt                        1.16.0\n",
      "zipp                         3.18.1\n"
     ]
    }
   ],
   "source": [
    "!pip list"
   ]
  },
  {
   "cell_type": "code",
   "execution_count": 5,
   "id": "0197fed2-d399-4d65-83d3-1eaea00c2f11",
   "metadata": {},
   "outputs": [
    {
     "ename": "ModuleNotFoundError",
     "evalue": "No module named 'roboflow'",
     "output_type": "error",
     "traceback": [
      "\u001b[1;31m---------------------------------------------------------------------------\u001b[0m",
      "\u001b[1;31mModuleNotFoundError\u001b[0m                       Traceback (most recent call last)",
      "Cell \u001b[1;32mIn[5], line 1\u001b[0m\n\u001b[1;32m----> 1\u001b[0m \u001b[38;5;28;01mimport\u001b[39;00m \u001b[38;5;21;01mroboflow\u001b[39;00m\n",
      "\u001b[1;31mModuleNotFoundError\u001b[0m: No module named 'roboflow'"
     ]
    }
   ],
   "source": [
    "import roboflow"
   ]
  },
  {
   "cell_type": "code",
   "execution_count": 6,
   "id": "e1b6856f-ab95-4bb8-80a1-da1b52f80289",
   "metadata": {},
   "outputs": [],
   "source": [
    "import keras\n",
    "from keras.models import Sequential\n",
    "from keras.layers import Dense,Conv2D,MaxPool2D,Flatten\n",
    "import pandas as pd\n",
    "import numpy as np\n",
    "from sklearn.model_selection import train_test_split\n",
    "from sklearn.preprocessing import OneHotEncoder, StandardScaler\n",
    "from sklearn.metrics import accuracy_score "
   ]
  },
  {
   "cell_type": "code",
   "execution_count": 7,
   "id": "0f2ba41c-8b00-4bae-8b42-68f7fee02cd6",
   "metadata": {},
   "outputs": [],
   "source": [
    "fashion_mnist=keras.datasets.fashion_mnist\n",
    "fashion_mnist\n",
    "\n",
    "model = keras.Sequential([\n",
    "    Conv2D(32, kernel_size=(3, 3), activation='relu', input_shape=(28, 28, 1)),\n",
    "    MaxPool2D(pool_size=(2, 2)),\n",
    "    Flatten(),\n",
    "    Dense(128, activation='relu'),\n",
    "    Dense(10, activation='softmax')\n",
    "])"
   ]
  },
  {
   "cell_type": "code",
   "execution_count": null,
   "id": "ce74ea4c-4e14-48f0-b407-6232e56f8bc5",
   "metadata": {},
   "outputs": [],
   "source": []
  }
 ],
 "metadata": {
  "kernelspec": {
   "display_name": "Python 3.12.2",
   "language": "python",
   "name": "myenv"
  },
  "language_info": {
   "codemirror_mode": {
    "name": "ipython",
    "version": 3
   },
   "file_extension": ".py",
   "mimetype": "text/x-python",
   "name": "python",
   "nbconvert_exporter": "python",
   "pygments_lexer": "ipython3",
   "version": "3.8.10"
  }
 },
 "nbformat": 4,
 "nbformat_minor": 5
}
